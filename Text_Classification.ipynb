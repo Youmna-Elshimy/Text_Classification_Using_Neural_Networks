{
  "nbformat": 4,
  "nbformat_minor": 0,
  "metadata": {
    "colab": {
      "provenance": []
    },
    "kernelspec": {
      "name": "python3",
      "display_name": "Python 3"
    },
    "language_info": {
      "name": "python"
    }
  },
  "cells": [
    {
      "cell_type": "code",
      "execution_count": 125,
      "metadata": {
        "colab": {
          "base_uri": "https://localhost:8080/"
        },
        "id": "YmykosWmkXky",
        "outputId": "e17ca684-0ee4-4c2d-e579-689d49945a98"
      },
      "outputs": [
        {
          "output_type": "stream",
          "name": "stderr",
          "text": [
            "[nltk_data] Downloading package stopwords to /root/nltk_data...\n",
            "[nltk_data]   Package stopwords is already up-to-date!\n"
          ]
        }
      ],
      "source": [
        "# Import the libraries\n",
        "import csv\n",
        "import pandas as pd\n",
        "import tensorflow as tf\n",
        "import numpy as np\n",
        "from tensorflow.keras.preprocessing.text import Tokenizer\n",
        "from tensorflow.keras.preprocessing.sequence import pad_sequences\n",
        "import nltk\n",
        "from nltk.corpus import stopwords\n",
        "nltk.download('stopwords')\n",
        "import matplotlib.pyplot as plt"
      ]
    },
    {
      "cell_type": "code",
      "source": [
        "# Initializing the parameters\n",
        "vocab_size = 1000 # Max. no. of words to keep in the vocabulary\n",
        "embedding_dim = 16 # Dimensionality of the word embeddings\n",
        "max_length = 120 # Max. no. of tokens in a sentence\n",
        "trunc_type='post' # Truncate extra words from the end of the sentence\n",
        "padding_type='post' # Pad sentences with 0s at the end if shorter than max_length\n",
        "oov_tok = \"<OOV>\" # Out-Of-Vocabulary token for unknown words\n",
        "training_portion = .8 # Use 80% for training"
      ],
      "metadata": {
        "id": "fMIn6aOdnSUv"
      },
      "execution_count": 126,
      "outputs": []
    },
    {
      "cell_type": "code",
      "source": [
        "# Initializing empty lists\n",
        "sentences = []\n",
        "labels = []"
      ],
      "metadata": {
        "id": "t2YnFxX7p4GD"
      },
      "execution_count": 127,
      "outputs": []
    },
    {
      "cell_type": "code",
      "source": [
        "# Load stopwords\n",
        "stop_words = set(stopwords.words('english'))"
      ],
      "metadata": {
        "id": "UGcR1oSeqi4K"
      },
      "execution_count": 128,
      "outputs": []
    },
    {
      "cell_type": "code",
      "source": [
        "# Read CSV file\n",
        "with open(\"/content/bbc-text.csv\", 'r') as csvfile:\n",
        "  reader = csv.reader(csvfile, delimiter=',')\n",
        "  next(reader) # Skip header\n",
        "  for row in reader:\n",
        "    labels.append(row[0]) # Save first column in the labels list\n",
        "    sentence = row[1] # Save second column in the sentences list\n",
        "\n",
        "    # Remove stopwords from sentences\n",
        "    for word in stop_words:\n",
        "      token = \" \" + word + \" \"\n",
        "      sentence = sentence.replace(token, \" \")\n",
        "    sentences.append(sentence)"
      ],
      "metadata": {
        "id": "kv71-RDPr4pi"
      },
      "execution_count": 129,
      "outputs": []
    },
    {
      "cell_type": "code",
      "source": [
        "# Print to confirm data read correctly\n",
        "print(len(labels))\n",
        "print(len(sentences))\n",
        "print(sentences[0])"
      ],
      "metadata": {
        "colab": {
          "base_uri": "https://localhost:8080/"
        },
        "id": "QYNeCzqqsoru",
        "outputId": "bf2196dc-cd92-4519-91ad-4c379ef3fa7d"
      },
      "execution_count": 130,
      "outputs": [
        {
          "output_type": "stream",
          "name": "stdout",
          "text": [
            "2225\n",
            "2225\n",
            "tv future hands viewers home theatre systems  plasma high-definition tvs  digital video recorders moving living room  way people watch tv radically different five years  time.  according expert panel gathered annual consumer electronics show las vegas discuss new technologies impact one favourite pastimes. us leading trend  programmes content delivered viewers via home networks  cable  satellite  telecoms companies  broadband service providers front rooms portable devices.  one talked-about technologies ces digital personal video recorders (dvr pvr). set-top boxes  like us tivo uk sky+ system  allow people record  store  play  pause forward wind tv programmes want.  essentially  technology allows much personalised tv. also built-in high-definition tv sets  big business japan us  slower take europe lack high-definition programming. people forward wind adverts  also forget abiding network channel schedules  putting together a-la-carte entertainment. us networks cable satellite companies worried means terms advertising revenues well  brand identity  viewer loyalty channels. although us leads technology moment  also concern raised europe  particularly growing uptake services like sky+.  happens today  see nine months years  time uk   adam hume  bbc broadcast futurologist told bbc news website. likes bbc  issues lost advertising revenue yet. pressing issue moment commercial uk broadcasters  brand loyalty important everyone.  talking content brands rather network brands   said tim hanlon  brand communications firm starcom mediavest.  reality broadband connections  anybody producer content.  added:  challenge hard promote programme much choice.   means  said stacey jolna  senior vice president tv guide tv group  way people find content want watch simplified tv viewers. means networks  us terms  channels could take leaf google book search engine future  instead scheduler help people find want watch. kind channel model might work younger ipod generation used taking control gadgets play them. might suit everyone  panel recognised. older generations comfortable familiar schedules channel brands know getting. perhaps want much choice put hands  mr hanlon suggested.  end  kids diapers pushing buttons already - everything possible available   said mr hanlon.  ultimately  consumer tell market want.   50 000 new gadgets technologies showcased ces  many enhancing tv-watching experience. high-definition tv sets everywhere many new models lcd (liquid crystal display) tvs launched dvr capability built  instead external boxes. one example launched show humax 26-inch lcd tv 80-hour tivo dvr dvd recorder. one us biggest satellite tv companies  directtv  even launched branded dvr show 100-hours recording capability  instant replay  search function. set pause rewind tv 90 hours. microsoft chief bill gates announced pre-show keynote speech partnership tivo  called tivotogo  means people play recorded programmes windows pcs mobile devices. reflect increasing trend freeing multimedia people watch want  want.\n"
          ]
        }
      ]
    },
    {
      "cell_type": "code",
      "source": [
        "# Split data into training and validation sets\n",
        "train_size = int(len(sentences) * training_portion)\n",
        "\n",
        "train_sentences = sentences[:train_size]\n",
        "train_labels = labels[:train_size]\n",
        "\n",
        "validation_sentences = sentences[train_size:]\n",
        "validation_labels = labels[train_size:]\n",
        "\n",
        "# Print lengths to verify splits\n",
        "print(train_size)\n",
        "print(len(train_sentences))\n",
        "print(len(train_labels))\n",
        "print(len(validation_sentences))\n",
        "print(len(validation_labels))"
      ],
      "metadata": {
        "id": "0c38xJXWtIDV",
        "colab": {
          "base_uri": "https://localhost:8080/"
        },
        "outputId": "d235b5dd-0475-41e8-9045-9f38dc4aed02"
      },
      "execution_count": 131,
      "outputs": [
        {
          "output_type": "stream",
          "name": "stdout",
          "text": [
            "1780\n",
            "1780\n",
            "1780\n",
            "445\n",
            "445\n"
          ]
        }
      ]
    },
    {
      "cell_type": "code",
      "source": [
        "# Text Tokenization and Padding\n",
        "tokenizer = Tokenizer(num_words = vocab_size, oov_token=oov_tok)\n",
        "tokenizer.fit_on_texts(train_sentences)\n",
        "# Dictionary mapping words to their index\n",
        "word_index = tokenizer.word_index\n",
        "\n",
        "# Convert training and validation sentences to sequences of word indices\n",
        "train_sequences = tokenizer.texts_to_sequences(train_sentences)\n",
        "train_padded = pad_sequences(train_sequences, padding=padding_type, maxlen=max_length)\n",
        "\n",
        "# Debug print to check a few padded sequences\n",
        "print(len(train_sequences[0]))\n",
        "print(len(train_padded[0]))\n",
        "\n",
        "print(len(train_sequences[1]))\n",
        "print(len(train_padded[1]))\n",
        "\n",
        "print(len(train_sequences[10]))\n",
        "print(len(train_padded[10]))\n"
      ],
      "metadata": {
        "colab": {
          "base_uri": "https://localhost:8080/"
        },
        "id": "bWxbdqbotmtQ",
        "outputId": "57b24512-5ddd-4972-fad8-8f0e9d7823b2"
      },
      "execution_count": 132,
      "outputs": [
        {
          "output_type": "stream",
          "name": "stdout",
          "text": [
            "425\n",
            "120\n",
            "192\n",
            "120\n",
            "186\n",
            "120\n"
          ]
        }
      ]
    },
    {
      "cell_type": "code",
      "source": [
        "# Convert validation sentences to padded sequences\n",
        "validation_sequences = tokenizer.texts_to_sequences(validation_sentences)\n",
        "validation_padded = pad_sequences(validation_sequences, padding=padding_type, maxlen=max_length)\n",
        "\n",
        "# Debug print\n",
        "print(len(validation_sequences))\n",
        "print(validation_padded.shape)"
      ],
      "metadata": {
        "colab": {
          "base_uri": "https://localhost:8080/"
        },
        "id": "aGOwR7T4urn7",
        "outputId": "f2b6bc7b-535d-4b2d-a524-7ed271da77c7"
      },
      "execution_count": 133,
      "outputs": [
        {
          "output_type": "stream",
          "name": "stdout",
          "text": [
            "445\n",
            "(445, 120)\n"
          ]
        }
      ]
    },
    {
      "cell_type": "code",
      "source": [
        "# Encode text labels to integers\n",
        "label_tokenizer = Tokenizer()\n",
        "# Fit on full label set to get consistent index mapping\n",
        "label_tokenizer.fit_on_texts(labels)\n",
        "\n",
        "# Convert label strings to sequences of integers, then convert to NumPy arrays\n",
        "training_label_seq = np.array(label_tokenizer.texts_to_sequences(train_labels))\n",
        "validation_label_seq = np.array(label_tokenizer.texts_to_sequences(validation_labels))\n",
        "\n",
        "# Debug print\n",
        "print(training_label_seq[0])\n",
        "print(training_label_seq[1])\n",
        "print(training_label_seq[2])\n",
        "print(training_label_seq.shape)\n",
        "\n",
        "print(validation_label_seq[0])\n",
        "print(validation_label_seq[1])\n",
        "print(validation_label_seq[2])\n",
        "print(validation_label_seq.shape)"
      ],
      "metadata": {
        "colab": {
          "base_uri": "https://localhost:8080/"
        },
        "id": "kxhZ4arvvBFf",
        "outputId": "82a1f193-3199-4dd0-83f3-ef7a2fff8fe9"
      },
      "execution_count": 134,
      "outputs": [
        {
          "output_type": "stream",
          "name": "stdout",
          "text": [
            "[4]\n",
            "[2]\n",
            "[1]\n",
            "(1780, 1)\n",
            "[5]\n",
            "[4]\n",
            "[3]\n",
            "(445, 1)\n"
          ]
        }
      ]
    },
    {
      "cell_type": "code",
      "source": [
        "# Initialize the model\n",
        "model = tf.keras.Sequential([\n",
        "    tf.keras.layers.Embedding(vocab_size,\n",
        "                              embedding_dim,\n",
        "                              input_shape=(max_length,)),\n",
        "    tf.keras.layers.GlobalAveragePooling1D(), # Average the embedding vectors across all words\n",
        "    tf.keras.layers.Dense(24, activation='relu'), # Hidden layer with ReLU\n",
        "    tf.keras.layers.Dense(6, activation='softmax') # Output layer with 6 categories\n",
        "])\n",
        "\n",
        "# Compile the model\n",
        "model.compile(\n",
        "    loss='sparse_categorical_crossentropy',\n",
        "    optimizer='adam',\n",
        "    metrics=['accuracy']\n",
        ")\n",
        "\n",
        "# Print model summary\n",
        "model.summary()"
      ],
      "metadata": {
        "colab": {
          "base_uri": "https://localhost:8080/",
          "height": 273
        },
        "id": "aUTLWFeKyo7N",
        "outputId": "c461f7e1-4ce7-4161-99dc-eafa26c17bcf"
      },
      "execution_count": 135,
      "outputs": [
        {
          "output_type": "display_data",
          "data": {
            "text/plain": [
              "\u001b[1mModel: \"sequential_24\"\u001b[0m\n"
            ],
            "text/html": [
              "<pre style=\"white-space:pre;overflow-x:auto;line-height:normal;font-family:Menlo,'DejaVu Sans Mono',consolas,'Courier New',monospace\"><span style=\"font-weight: bold\">Model: \"sequential_24\"</span>\n",
              "</pre>\n"
            ]
          },
          "metadata": {}
        },
        {
          "output_type": "display_data",
          "data": {
            "text/plain": [
              "┏━━━━━━━━━━━━━━━━━━━━━━━━━━━━━━━━━┳━━━━━━━━━━━━━━━━━━━━━━━━┳━━━━━━━━━━━━━━━┓\n",
              "┃\u001b[1m \u001b[0m\u001b[1mLayer (type)                   \u001b[0m\u001b[1m \u001b[0m┃\u001b[1m \u001b[0m\u001b[1mOutput Shape          \u001b[0m\u001b[1m \u001b[0m┃\u001b[1m \u001b[0m\u001b[1m      Param #\u001b[0m\u001b[1m \u001b[0m┃\n",
              "┡━━━━━━━━━━━━━━━━━━━━━━━━━━━━━━━━━╇━━━━━━━━━━━━━━━━━━━━━━━━╇━━━━━━━━━━━━━━━┩\n",
              "│ embedding_25 (\u001b[38;5;33mEmbedding\u001b[0m)        │ (\u001b[38;5;45mNone\u001b[0m, \u001b[38;5;34m120\u001b[0m, \u001b[38;5;34m16\u001b[0m)        │        \u001b[38;5;34m16,000\u001b[0m │\n",
              "├─────────────────────────────────┼────────────────────────┼───────────────┤\n",
              "│ global_average_pooling1d_24     │ (\u001b[38;5;45mNone\u001b[0m, \u001b[38;5;34m16\u001b[0m)             │             \u001b[38;5;34m0\u001b[0m │\n",
              "│ (\u001b[38;5;33mGlobalAveragePooling1D\u001b[0m)        │                        │               │\n",
              "├─────────────────────────────────┼────────────────────────┼───────────────┤\n",
              "│ dense_44 (\u001b[38;5;33mDense\u001b[0m)                │ (\u001b[38;5;45mNone\u001b[0m, \u001b[38;5;34m24\u001b[0m)             │           \u001b[38;5;34m408\u001b[0m │\n",
              "├─────────────────────────────────┼────────────────────────┼───────────────┤\n",
              "│ dense_45 (\u001b[38;5;33mDense\u001b[0m)                │ (\u001b[38;5;45mNone\u001b[0m, \u001b[38;5;34m6\u001b[0m)              │           \u001b[38;5;34m150\u001b[0m │\n",
              "└─────────────────────────────────┴────────────────────────┴───────────────┘\n"
            ],
            "text/html": [
              "<pre style=\"white-space:pre;overflow-x:auto;line-height:normal;font-family:Menlo,'DejaVu Sans Mono',consolas,'Courier New',monospace\">┏━━━━━━━━━━━━━━━━━━━━━━━━━━━━━━━━━┳━━━━━━━━━━━━━━━━━━━━━━━━┳━━━━━━━━━━━━━━━┓\n",
              "┃<span style=\"font-weight: bold\"> Layer (type)                    </span>┃<span style=\"font-weight: bold\"> Output Shape           </span>┃<span style=\"font-weight: bold\">       Param # </span>┃\n",
              "┡━━━━━━━━━━━━━━━━━━━━━━━━━━━━━━━━━╇━━━━━━━━━━━━━━━━━━━━━━━━╇━━━━━━━━━━━━━━━┩\n",
              "│ embedding_25 (<span style=\"color: #0087ff; text-decoration-color: #0087ff\">Embedding</span>)        │ (<span style=\"color: #00d7ff; text-decoration-color: #00d7ff\">None</span>, <span style=\"color: #00af00; text-decoration-color: #00af00\">120</span>, <span style=\"color: #00af00; text-decoration-color: #00af00\">16</span>)        │        <span style=\"color: #00af00; text-decoration-color: #00af00\">16,000</span> │\n",
              "├─────────────────────────────────┼────────────────────────┼───────────────┤\n",
              "│ global_average_pooling1d_24     │ (<span style=\"color: #00d7ff; text-decoration-color: #00d7ff\">None</span>, <span style=\"color: #00af00; text-decoration-color: #00af00\">16</span>)             │             <span style=\"color: #00af00; text-decoration-color: #00af00\">0</span> │\n",
              "│ (<span style=\"color: #0087ff; text-decoration-color: #0087ff\">GlobalAveragePooling1D</span>)        │                        │               │\n",
              "├─────────────────────────────────┼────────────────────────┼───────────────┤\n",
              "│ dense_44 (<span style=\"color: #0087ff; text-decoration-color: #0087ff\">Dense</span>)                │ (<span style=\"color: #00d7ff; text-decoration-color: #00d7ff\">None</span>, <span style=\"color: #00af00; text-decoration-color: #00af00\">24</span>)             │           <span style=\"color: #00af00; text-decoration-color: #00af00\">408</span> │\n",
              "├─────────────────────────────────┼────────────────────────┼───────────────┤\n",
              "│ dense_45 (<span style=\"color: #0087ff; text-decoration-color: #0087ff\">Dense</span>)                │ (<span style=\"color: #00d7ff; text-decoration-color: #00d7ff\">None</span>, <span style=\"color: #00af00; text-decoration-color: #00af00\">6</span>)              │           <span style=\"color: #00af00; text-decoration-color: #00af00\">150</span> │\n",
              "└─────────────────────────────────┴────────────────────────┴───────────────┘\n",
              "</pre>\n"
            ]
          },
          "metadata": {}
        },
        {
          "output_type": "display_data",
          "data": {
            "text/plain": [
              "\u001b[1m Total params: \u001b[0m\u001b[38;5;34m16,558\u001b[0m (64.68 KB)\n"
            ],
            "text/html": [
              "<pre style=\"white-space:pre;overflow-x:auto;line-height:normal;font-family:Menlo,'DejaVu Sans Mono',consolas,'Courier New',monospace\"><span style=\"font-weight: bold\"> Total params: </span><span style=\"color: #00af00; text-decoration-color: #00af00\">16,558</span> (64.68 KB)\n",
              "</pre>\n"
            ]
          },
          "metadata": {}
        },
        {
          "output_type": "display_data",
          "data": {
            "text/plain": [
              "\u001b[1m Trainable params: \u001b[0m\u001b[38;5;34m16,558\u001b[0m (64.68 KB)\n"
            ],
            "text/html": [
              "<pre style=\"white-space:pre;overflow-x:auto;line-height:normal;font-family:Menlo,'DejaVu Sans Mono',consolas,'Courier New',monospace\"><span style=\"font-weight: bold\"> Trainable params: </span><span style=\"color: #00af00; text-decoration-color: #00af00\">16,558</span> (64.68 KB)\n",
              "</pre>\n"
            ]
          },
          "metadata": {}
        },
        {
          "output_type": "display_data",
          "data": {
            "text/plain": [
              "\u001b[1m Non-trainable params: \u001b[0m\u001b[38;5;34m0\u001b[0m (0.00 B)\n"
            ],
            "text/html": [
              "<pre style=\"white-space:pre;overflow-x:auto;line-height:normal;font-family:Menlo,'DejaVu Sans Mono',consolas,'Courier New',monospace\"><span style=\"font-weight: bold\"> Non-trainable params: </span><span style=\"color: #00af00; text-decoration-color: #00af00\">0</span> (0.00 B)\n",
              "</pre>\n"
            ]
          },
          "metadata": {}
        }
      ]
    },
    {
      "cell_type": "code",
      "source": [
        "# Train the model\n",
        "# Initialize no. of epochs\n",
        "num_epochs = 30\n",
        "\n",
        "history = model.fit(\n",
        "    train_padded,\n",
        "    training_label_seq,\n",
        "    epochs=num_epochs,\n",
        "    validation_data=(validation_padded, validation_label_seq),\n",
        "    verbose=2\n",
        ")"
      ],
      "metadata": {
        "colab": {
          "base_uri": "https://localhost:8080/"
        },
        "id": "YCEOEq25z9S9",
        "outputId": "9733ae7d-7a36-438f-816d-602ca5f21897"
      },
      "execution_count": 136,
      "outputs": [
        {
          "output_type": "stream",
          "name": "stdout",
          "text": [
            "Epoch 1/30\n",
            "56/56 - 2s - 36ms/step - accuracy: 0.2669 - loss: 1.7184 - val_accuracy: 0.4180 - val_loss: 1.6305\n",
            "Epoch 2/30\n",
            "56/56 - 1s - 16ms/step - accuracy: 0.4090 - loss: 1.5728 - val_accuracy: 0.4247 - val_loss: 1.5054\n",
            "Epoch 3/30\n",
            "56/56 - 0s - 6ms/step - accuracy: 0.4579 - loss: 1.4400 - val_accuracy: 0.4404 - val_loss: 1.3751\n",
            "Epoch 4/30\n",
            "56/56 - 1s - 10ms/step - accuracy: 0.5213 - loss: 1.2933 - val_accuracy: 0.6472 - val_loss: 1.2146\n",
            "Epoch 5/30\n",
            "56/56 - 0s - 5ms/step - accuracy: 0.6455 - loss: 1.1214 - val_accuracy: 0.8135 - val_loss: 1.0613\n",
            "Epoch 6/30\n",
            "56/56 - 0s - 6ms/step - accuracy: 0.8022 - loss: 0.9548 - val_accuracy: 0.8292 - val_loss: 0.9092\n",
            "Epoch 7/30\n",
            "56/56 - 1s - 11ms/step - accuracy: 0.8601 - loss: 0.8003 - val_accuracy: 0.8764 - val_loss: 0.7728\n",
            "Epoch 8/30\n",
            "56/56 - 0s - 5ms/step - accuracy: 0.8938 - loss: 0.6644 - val_accuracy: 0.8674 - val_loss: 0.6719\n",
            "Epoch 9/30\n",
            "56/56 - 1s - 11ms/step - accuracy: 0.9112 - loss: 0.5492 - val_accuracy: 0.8921 - val_loss: 0.5643\n",
            "Epoch 10/30\n",
            "56/56 - 1s - 10ms/step - accuracy: 0.9219 - loss: 0.4574 - val_accuracy: 0.8989 - val_loss: 0.4818\n",
            "Epoch 11/30\n",
            "56/56 - 0s - 6ms/step - accuracy: 0.9315 - loss: 0.3845 - val_accuracy: 0.9079 - val_loss: 0.4212\n",
            "Epoch 12/30\n",
            "56/56 - 0s - 5ms/step - accuracy: 0.9461 - loss: 0.3255 - val_accuracy: 0.8966 - val_loss: 0.3864\n",
            "Epoch 13/30\n",
            "56/56 - 0s - 6ms/step - accuracy: 0.9517 - loss: 0.2781 - val_accuracy: 0.9191 - val_loss: 0.3354\n",
            "Epoch 14/30\n",
            "56/56 - 0s - 7ms/step - accuracy: 0.9579 - loss: 0.2423 - val_accuracy: 0.9124 - val_loss: 0.3124\n",
            "Epoch 15/30\n",
            "56/56 - 1s - 9ms/step - accuracy: 0.9596 - loss: 0.2136 - val_accuracy: 0.9146 - val_loss: 0.2838\n",
            "Epoch 16/30\n",
            "56/56 - 1s - 11ms/step - accuracy: 0.9680 - loss: 0.1893 - val_accuracy: 0.9371 - val_loss: 0.2755\n",
            "Epoch 17/30\n",
            "56/56 - 0s - 5ms/step - accuracy: 0.9713 - loss: 0.1690 - val_accuracy: 0.9213 - val_loss: 0.2579\n",
            "Epoch 18/30\n",
            "56/56 - 0s - 5ms/step - accuracy: 0.9730 - loss: 0.1534 - val_accuracy: 0.9348 - val_loss: 0.2348\n",
            "Epoch 19/30\n",
            "56/56 - 0s - 5ms/step - accuracy: 0.9775 - loss: 0.1372 - val_accuracy: 0.9393 - val_loss: 0.2313\n",
            "Epoch 20/30\n",
            "56/56 - 0s - 5ms/step - accuracy: 0.9787 - loss: 0.1244 - val_accuracy: 0.9371 - val_loss: 0.2140\n",
            "Epoch 21/30\n",
            "56/56 - 0s - 6ms/step - accuracy: 0.9820 - loss: 0.1155 - val_accuracy: 0.9348 - val_loss: 0.2139\n",
            "Epoch 22/30\n",
            "56/56 - 1s - 10ms/step - accuracy: 0.9837 - loss: 0.1049 - val_accuracy: 0.9371 - val_loss: 0.2083\n",
            "Epoch 23/30\n",
            "56/56 - 0s - 6ms/step - accuracy: 0.9848 - loss: 0.0952 - val_accuracy: 0.9393 - val_loss: 0.1973\n",
            "Epoch 24/30\n",
            "56/56 - 0s - 5ms/step - accuracy: 0.9865 - loss: 0.0873 - val_accuracy: 0.9371 - val_loss: 0.1980\n",
            "Epoch 25/30\n",
            "56/56 - 0s - 5ms/step - accuracy: 0.9860 - loss: 0.0803 - val_accuracy: 0.9393 - val_loss: 0.1903\n",
            "Epoch 26/30\n",
            "56/56 - 0s - 5ms/step - accuracy: 0.9876 - loss: 0.0755 - val_accuracy: 0.9438 - val_loss: 0.1894\n",
            "Epoch 27/30\n",
            "56/56 - 0s - 6ms/step - accuracy: 0.9910 - loss: 0.0689 - val_accuracy: 0.9483 - val_loss: 0.1857\n",
            "Epoch 28/30\n",
            "56/56 - 0s - 8ms/step - accuracy: 0.9910 - loss: 0.0652 - val_accuracy: 0.9303 - val_loss: 0.1972\n",
            "Epoch 29/30\n",
            "56/56 - 1s - 12ms/step - accuracy: 0.9921 - loss: 0.0600 - val_accuracy: 0.9506 - val_loss: 0.1786\n",
            "Epoch 30/30\n",
            "56/56 - 1s - 11ms/step - accuracy: 0.9938 - loss: 0.0555 - val_accuracy: 0.9348 - val_loss: 0.1902\n"
          ]
        }
      ]
    },
    {
      "cell_type": "code",
      "source": [
        "# Plot accuracy and loss graphs over epochs\n",
        "def plot_graphs(history, metric_name):\n",
        "  plt.plot(history.history[metric_name])\n",
        "  plt.plot(history.history['val_' + metric_name])\n",
        "  plt.xlabel(\"Epochs\")\n",
        "  plt.ylabel(metric_name.capitalize())\n",
        "  plt.title(f\"Training vs Validation {metric_name.capitalize()}\")\n",
        "  plt.legend([metric_name, 'val_' + metric_name])\n",
        "  plt.grid(True)\n",
        "  plt.show()\n",
        "\n",
        "plot_graphs(history, \"accuracy\")\n",
        "plot_graphs(history, \"loss\")"
      ],
      "metadata": {
        "colab": {
          "base_uri": "https://localhost:8080/",
          "height": 927
        },
        "id": "yL3MzPpI0eJz",
        "outputId": "587b12ba-923c-44f3-cda6-c425043b4684"
      },
      "execution_count": 137,
      "outputs": [
        {
          "output_type": "display_data",
          "data": {
            "text/plain": [
              "<Figure size 640x480 with 1 Axes>"
            ],
            "image/png": "[encoded data removed]"
          },
          "metadata": {}
        },
        {
          "output_type": "display_data",
          "data": {
            "text/plain": [
              "<Figure size 640x480 with 1 Axes>"
            ],
            "image/png": "[encoded data removed]"
          },
          "metadata": {}
        }
      ]
    }
  ]
}